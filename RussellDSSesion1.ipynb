{
  "nbformat": 4,
  "nbformat_minor": 0,
  "metadata": {
    "colab": {
      "name": "RussellDSSesion1.ipynb",
      "provenance": [],
      "authorship_tag": "ABX9TyN2w+Dm3CVrrDsok3uXl+Yz",
      "include_colab_link": true
    },
    "kernelspec": {
      "name": "python3",
      "display_name": "Python 3"
    }
  },
  "cells": [
    {
      "cell_type": "markdown",
      "metadata": {
        "id": "view-in-github",
        "colab_type": "text"
      },
      "source": [
        "<a href=\"https://colab.research.google.com/github/AndresJejen/Charlas-Russel/blob/master/RussellDSSesion1.ipynb\" target=\"_parent\"><img src=\"https://colab.research.google.com/assets/colab-badge.svg\" alt=\"Open In Colab\"/></a>"
      ]
    },
    {
      "cell_type": "markdown",
      "metadata": {
        "id": "xvgbvh-8fMK7",
        "colab_type": "text"
      },
      "source": [
        "# Russell DS Session 1\n",
        "En este notebook vamos a aprender, como utilizar python para Data Science.\n",
        "- Primer viñeta\n",
        "- segunda viñeta"
      ]
    },
    {
      "cell_type": "code",
      "metadata": {
        "id": "6J3DnZsDbQri",
        "colab_type": "code",
        "colab": {}
      },
      "source": [
        "myVariable = \"Hola Mundo\""
      ],
      "execution_count": 0,
      "outputs": []
    },
    {
      "cell_type": "code",
      "metadata": {
        "id": "_miVYkH9fxdU",
        "colab_type": "code",
        "colab": {
          "base_uri": "https://localhost:8080/",
          "height": 33
        },
        "outputId": "48488203-a0d0-4d68-8579-8d1a620e37c6"
      },
      "source": [
        "print(myVariable)"
      ],
      "execution_count": 3,
      "outputs": [
        {
          "output_type": "stream",
          "text": [
            "Hola Mundo\n"
          ],
          "name": "stdout"
        }
      ]
    },
    {
      "cell_type": "code",
      "metadata": {
        "id": "zVCeCVshgf4N",
        "colab_type": "code",
        "colab": {
          "base_uri": "https://localhost:8080/",
          "height": 33
        },
        "outputId": "1b37ba20-6042-4492-f600-45033dba3899"
      },
      "source": [
        "myVariable = input(\"Ingresa el nombre de tu perro: \")"
      ],
      "execution_count": 4,
      "outputs": [
        {
          "output_type": "stream",
          "text": [
            "Ingresa el nombre de tu perro: No tengo perro :'(\n"
          ],
          "name": "stdout"
        }
      ]
    },
    {
      "cell_type": "code",
      "metadata": {
        "id": "OeOCTYzdhQtK",
        "colab_type": "code",
        "colab": {
          "base_uri": "https://localhost:8080/",
          "height": 33
        },
        "outputId": "a94f340f-c174-4931-eb55-e41a71c68986"
      },
      "source": [
        "myVariable"
      ],
      "execution_count": 5,
      "outputs": [
        {
          "output_type": "execute_result",
          "data": {
            "text/plain": [
              "\"No tengo perro :'(\""
            ]
          },
          "metadata": {
            "tags": []
          },
          "execution_count": 5
        }
      ]
    },
    {
      "cell_type": "markdown",
      "metadata": {
        "id": "FchiX89Vhm4z",
        "colab_type": "text"
      },
      "source": [
        "## Matemáticas con python por favor\n",
        "**Contexto de negocio:** Imagina que has sido contratado por el DANE, como analista de datos sobre actividad laboral en Colombia. Te entregan un conjunto de datos con la información por región con cantidad total de desempleo y la poblacion laboralmente apta en la region.\n",
        "Debes generar conocimiento útil."
      ]
    },
    {
      "cell_type": "code",
      "metadata": {
        "id": "ifGkvh3IhmP3",
        "colab_type": "code",
        "colab": {}
      },
      "source": [
        "MyData =  {\n",
        "            \"Costa\": {\n",
        "                \"Desempleados\": 1345,\n",
        "                \"Poblacion\": 5000\n",
        "            },\n",
        "            \"Andina\": {\n",
        "                \"Desempleados\": 3000,\n",
        "                \"Poblacion\": 10000\n",
        "            },\n",
        "            \"Orinoquia\": {\n",
        "                \"Desempleados\": 7854,\n",
        "                \"Poblacion\": 65664\n",
        "            },\n",
        "            \"Amazonica\": {\n",
        "                  \"Desempleados\": 565666,\n",
        "                  \"Poblacion\": 787878\n",
        "              },\n",
        "              \"Insular\": {\n",
        "                  \"Desempleados\": 9853,\n",
        "                  \"Poblacion\": 75000\n",
        "              }\n",
        "          }"
      ],
      "execution_count": 0,
      "outputs": []
    },
    {
      "cell_type": "code",
      "metadata": {
        "id": "aXupPkdui60G",
        "colab_type": "code",
        "colab": {
          "base_uri": "https://localhost:8080/",
          "height": 33
        },
        "outputId": "4c0899b3-792c-46c7-c754-78068dd9bddc"
      },
      "source": [
        "print(MyData)"
      ],
      "execution_count": 22,
      "outputs": [
        {
          "output_type": "stream",
          "text": [
            "{'Costa': {'Desempleados': 1345, 'Poblacion': 5000}, 'Andina': {'Desempleados': 3000, 'Poblacion': 10000}, 'Orinoquia': {'Desempleados': 7854, 'Poblacion': 65664}, 'Amazonica': {'Desempleados': 565666, 'Poblacion': 787878}, 'Insular': {'Desempleados': 9853, 'Poblacion': 75000}}\n"
          ],
          "name": "stdout"
        }
      ]
    },
    {
      "cell_type": "markdown",
      "metadata": {
        "id": "QlzbKj6Ej4QF",
        "colab_type": "text"
      },
      "source": [
        "Busca la información de la región andina"
      ]
    },
    {
      "cell_type": "code",
      "metadata": {
        "id": "eNx4ztddj3ZH",
        "colab_type": "code",
        "colab": {
          "base_uri": "https://localhost:8080/",
          "height": 33
        },
        "outputId": "803845d7-a9f4-4eb9-e906-bd7de94ff850"
      },
      "source": [
        "MyData['Andina']"
      ],
      "execution_count": 26,
      "outputs": [
        {
          "output_type": "execute_result",
          "data": {
            "text/plain": [
              "{'Desempleados': 3000, 'Poblacion': 10000}"
            ]
          },
          "metadata": {
            "tags": []
          },
          "execution_count": 26
        }
      ]
    },
    {
      "cell_type": "markdown",
      "metadata": {
        "id": "GdTe8CUykFS-",
        "colab_type": "text"
      },
      "source": [
        "Quiero ver la cantidad total de personas laboralmente aptas en Colombia, y la cantidad total de desempleados.\n"
      ]
    },
    {
      "cell_type": "code",
      "metadata": {
        "id": "N2Gj-ZjBkR6l",
        "colab_type": "code",
        "colab": {}
      },
      "source": [
        "poblacion = 0\n",
        "desempleados = 0\n",
        "\n",
        "for region in MyData.keys():\n",
        "  poblacion = poblacion + MyData[region]['Poblacion']\n",
        "  desempleados = desempleados + MyData[region]['Desempleados']"
      ],
      "execution_count": 0,
      "outputs": []
    },
    {
      "cell_type": "code",
      "metadata": {
        "id": "dkCu6f68m1Kq",
        "colab_type": "code",
        "colab": {
          "base_uri": "https://localhost:8080/",
          "height": 50
        },
        "outputId": "21184f6b-32a0-4218-f99c-dc08c7601a88"
      },
      "source": [
        "print(\"Total población\", poblacion)\n",
        "print(\"Total Desempleados\", desempleados)"
      ],
      "execution_count": 25,
      "outputs": [
        {
          "output_type": "stream",
          "text": [
            "Total población 943542\n",
            "Total Desempleados 587718\n"
          ],
          "name": "stdout"
        }
      ]
    },
    {
      "cell_type": "markdown",
      "metadata": {
        "id": "cyv4IYSon4t4",
        "colab_type": "text"
      },
      "source": [
        "Quiero saber cual es el porcentaje de desempleo en Colombia"
      ]
    },
    {
      "cell_type": "code",
      "metadata": {
        "id": "5DD1BqsknY8V",
        "colab_type": "code",
        "colab": {
          "base_uri": "https://localhost:8080/",
          "height": 33
        },
        "outputId": "03a30ab2-9af4-435b-8bea-87e3049f1e33"
      },
      "source": [
        "print(\"% Desempleo:\",desempleados * 100 / poblacion)"
      ],
      "execution_count": 28,
      "outputs": [
        {
          "output_type": "stream",
          "text": [
            "% Desempleo: 62.28848318357847\n"
          ],
          "name": "stdout"
        }
      ]
    },
    {
      "cell_type": "markdown",
      "metadata": {
        "id": "17qR5SZrn9o1",
        "colab_type": "text"
      },
      "source": [
        "Quiero saber cual es el porcentaje de población desempleada en cada región"
      ]
    },
    {
      "cell_type": "code",
      "metadata": {
        "id": "vjPWrM1doFjS",
        "colab_type": "code",
        "colab": {
          "base_uri": "https://localhost:8080/",
          "height": 98
        },
        "outputId": "25ea5b1d-2560-48cd-d7ae-79a127f7b135"
      },
      "source": [
        "for region in MyData.keys():\n",
        "  poblacion = MyData[region]['Poblacion']\n",
        "  desempleados = MyData[region]['Desempleados']\n",
        "  porcentaje = round(desempleados * 100 / poblacion, 2)\n",
        "  print(f\"% Desempleo en {region}\",porcentaje, \"%\")"
      ],
      "execution_count": 31,
      "outputs": [
        {
          "output_type": "stream",
          "text": [
            "% Desempleo en Costa 26.9 %\n",
            "% Desempleo en Andina 30.0 %\n",
            "% Desempleo en Orinoquia 11.96 %\n",
            "% Desempleo en Amazonica 71.8 %\n",
            "% Desempleo en Insular 13.14 %\n"
          ],
          "name": "stdout"
        }
      ]
    },
    {
      "cell_type": "markdown",
      "metadata": {
        "id": "TCCl_tzip-cH",
        "colab_type": "text"
      },
      "source": [
        "## Análisis mensual"
      ]
    },
    {
      "cell_type": "code",
      "metadata": {
        "id": "I5QwARJXqaw3",
        "colab_type": "code",
        "colab": {
          "base_uri": "https://localhost:8080/",
          "height": 33
        },
        "outputId": "36eaf9a0-7be8-4361-852b-ebce4131f768"
      },
      "source": [
        "!pip install -U numpy"
      ],
      "execution_count": 32,
      "outputs": [
        {
          "output_type": "stream",
          "text": [
            "Requirement already up-to-date: numpy in /usr/local/lib/python3.6/dist-packages (1.18.4)\n"
          ],
          "name": "stdout"
        }
      ]
    },
    {
      "cell_type": "code",
      "metadata": {
        "id": "UcjvxsKwrL8n",
        "colab_type": "code",
        "colab": {}
      },
      "source": [
        "import numpy as np"
      ],
      "execution_count": 0,
      "outputs": []
    },
    {
      "cell_type": "code",
      "metadata": {
        "id": "Hyy38-b3rZQg",
        "colab_type": "code",
        "colab": {
          "base_uri": "https://localhost:8080/",
          "height": 50
        },
        "outputId": "c51f1b47-6a3b-43be-ecba-93a09fe3dbd1"
      },
      "source": [
        "np.random.randint(100, 3000, (12))"
      ],
      "execution_count": 36,
      "outputs": [
        {
          "output_type": "execute_result",
          "data": {
            "text/plain": [
              "array([1125,  429, 2375,  742, 1168, 1044,  755,  185, 1313, 1602,  632,\n",
              "       1750])"
            ]
          },
          "metadata": {
            "tags": []
          },
          "execution_count": 36
        }
      ]
    },
    {
      "cell_type": "code",
      "metadata": {
        "id": "o22Vk3bKp9-Y",
        "colab_type": "code",
        "colab": {}
      },
      "source": [
        "DesempleoPorRegionPorMes = {\n",
        "    \"Costa\": {\n",
        "                \"Desempleados\": np.random.randint(100, 3000, (12)),\n",
        "                \"Poblacion\": np.random.randint(100, 3000, (12))\n",
        "            },\n",
        "            \"Andina\": {\n",
        "                \"Desempleados\":np.random.randint(100, 3000, (12)),\n",
        "                \"Poblacion\": np.random.randint(100, 3000, (12))\n",
        "            },\n",
        "            \"Orinoquia\": {\n",
        "                \"Desempleados\": np.random.randint(100, 3000, (12)),\n",
        "                \"Poblacion\": np.random.randint(100, 3000, (12))\n",
        "            },\n",
        "            \"Amazonica\": {\n",
        "                  \"Desempleados\": np.random.randint(100, 3000, (12)),\n",
        "                  \"Poblacion\": np.random.randint(100, 3000, (12))\n",
        "              },\n",
        "              \"Insular\": {\n",
        "                  \"Desempleados\": np.random.randint(100, 3000, (12)),\n",
        "                  \"Poblacion\": np.random.randint(100, 3000, (12))\n",
        "              }\n",
        "}"
      ],
      "execution_count": 0,
      "outputs": []
    },
    {
      "cell_type": "code",
      "metadata": {
        "id": "0bUeLmp4vldT",
        "colab_type": "code",
        "colab": {
          "base_uri": "https://localhost:8080/",
          "height": 342
        },
        "outputId": "1ab19335-5ab3-4bd5-8401-083583a06285"
      },
      "source": [
        "DesempleoPorRegionPorMes"
      ],
      "execution_count": 44,
      "outputs": [
        {
          "output_type": "execute_result",
          "data": {
            "text/plain": [
              "{'Amazonica': {'Desempleados': array([2128, 1396, 1714, 2843, 2646, 1119,  814,  714, 2053, 1892, 1802,\n",
              "         1141]),\n",
              "  'Poblacion': array([1046, 2288, 2954, 1538,  346, 2666,  425,  558, 2606, 2586, 1380,\n",
              "         1943])},\n",
              " 'Andina': {'Desempleados': array([2280, 2586, 2888,  851, 2198, 2363, 2920, 2087,  460, 2515, 2552,\n",
              "          529]),\n",
              "  'Poblacion': array([2618, 1776,  472, 2289, 1697, 1343,  928, 1732,  335,  500, 2732,\n",
              "         1341])},\n",
              " 'Costa': {'Desempleados': array([1625, 1960, 2274, 2569, 1462, 1780,  998, 2763, 1638, 1445,  296,\n",
              "         2607]),\n",
              "  'Poblacion': array([2941, 2268, 2005, 1967, 1897, 1828, 2504,  955, 2694, 2577, 1176,\n",
              "         2901])},\n",
              " 'Insular': {'Desempleados': array([2718, 1917, 2443, 2646,  191,  497,  662,  467,  145,  613, 1323,\n",
              "         2558]),\n",
              "  'Poblacion': array([1783, 2831, 2601, 2639,  227, 2881, 2395,  568, 2930,  761, 2355,\n",
              "         1033])},\n",
              " 'Orinoquia': {'Desempleados': array([ 127, 2895, 2408, 1455, 1435,  580, 2560, 2848, 1041, 1324, 1796,\n",
              "         1215]),\n",
              "  'Poblacion': array([2235, 1050,  489, 1652,  183,  203,  718, 2461, 1964,  596, 1423,\n",
              "         1086])}}"
            ]
          },
          "metadata": {
            "tags": []
          },
          "execution_count": 44
        }
      ]
    },
    {
      "cell_type": "code",
      "metadata": {
        "id": "OFrUFfGNv2e_",
        "colab_type": "code",
        "colab": {}
      },
      "source": [
        "Insular = DesempleoPorRegionPorMes['Insular']"
      ],
      "execution_count": 0,
      "outputs": []
    },
    {
      "cell_type": "code",
      "metadata": {
        "id": "mzSzPnlZv6ym",
        "colab_type": "code",
        "colab": {
          "base_uri": "https://localhost:8080/",
          "height": 82
        },
        "outputId": "443b0ec4-5d78-4375-9e16-6113397304d5"
      },
      "source": [
        "Insular"
      ],
      "execution_count": 46,
      "outputs": [
        {
          "output_type": "execute_result",
          "data": {
            "text/plain": [
              "{'Desempleados': array([2718, 1917, 2443, 2646,  191,  497,  662,  467,  145,  613, 1323,\n",
              "        2558]),\n",
              " 'Poblacion': array([1783, 2831, 2601, 2639,  227, 2881, 2395,  568, 2930,  761, 2355,\n",
              "        1033])}"
            ]
          },
          "metadata": {
            "tags": []
          },
          "execution_count": 46
        }
      ]
    },
    {
      "cell_type": "code",
      "metadata": {
        "id": "iJHEEfHNv9SB",
        "colab_type": "code",
        "colab": {}
      },
      "source": [
        "DesempleadosInsular = Insular['Desempleados'].sum()\n",
        "PoblacionInsular = Insular['Poblacion'].sum()"
      ],
      "execution_count": 0,
      "outputs": []
    },
    {
      "cell_type": "markdown",
      "metadata": {
        "id": "EAwaVQ55xIzU",
        "colab_type": "text"
      },
      "source": [
        "Ohh esto esta raro, es posible que sea un erro en los datos."
      ]
    },
    {
      "cell_type": "code",
      "metadata": {
        "id": "yR2U0X2RwOtD",
        "colab_type": "code",
        "colab": {
          "base_uri": "https://localhost:8080/",
          "height": 50
        },
        "outputId": "b0d3ed5e-6fb5-44c8-9c78-93832b2d05c4"
      },
      "source": [
        "print(DesempleadosInsular)\n",
        "print(PoblacionInsular)"
      ],
      "execution_count": 48,
      "outputs": [
        {
          "output_type": "stream",
          "text": [
            "16180\n",
            "23004\n"
          ],
          "name": "stdout"
        }
      ]
    }
  ]
}